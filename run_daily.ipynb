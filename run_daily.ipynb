{
 "cells": [
  {
   "cell_type": "code",
   "execution_count": 1,
   "metadata": {},
   "outputs": [],
   "source": [
    "import yfinance as yf\n",
    "import pandas as pd\n",
    "import pprint\n",
    "from tqdm.notebook import tqdm\n",
    "import matplotlib.pyplot as plot\n",
    "import seaborn as sns\n",
    "import pickle"
   ]
  },
  {
   "cell_type": "markdown",
   "metadata": {},
   "source": [
    "## Importazione della lista di stock supportata da revolut"
   ]
  },
  {
   "cell_type": "code",
   "execution_count": 2,
   "metadata": {},
   "outputs": [],
   "source": [
    "stocks_list = pd.read_csv('Stock_list.csv', sep=';')\n",
    "stocks = ''\n",
    "for item in stocks_list['Ticker']:\n",
    "    stocks = stocks + ' ' + str(item)"
   ]
  },
  {
   "cell_type": "code",
   "execution_count": 4,
   "metadata": {},
   "outputs": [
    {
     "data": {
      "text/plain": [
       "' NVDA AMD PACB DARD CORS CRIS METT SATI ELAN GNTX ORGN ISRG XPEV CRSR CRSP SIRI ZBRA CWEN SWKS FFIV AMRC OTLY CROX PLNT CTXS SPLK MGIC FAST MARA AFRM ARCT MVIS ARCC PENN KEYS CTVA BLNK UNIT NPTN BEPC MANU FMAC YETI TALK CDNS ATIP CTSH SUNP BBVA MDRX AGNC SPWR LEVI DELL CARS FSLR BBAR AMAT CEME IRBT DDOG SLCA FVRR PTON ADSK REGI REGN ARMO ALLY VRTX COST BRFS HIMX ANGI ORCL LULU KRAT BARK DIDI ASAN PDCE POSH TPGY CSIQ VIAC FRSH HYZN UCTT CURI TROW CCCS APSG CSGP KTOS NVCR PATH LESL JNPR LCID MRNA FROG GOEV NVAX APPN RDFN EXAS TDOC TMUS VRSN BTAQ ELMS SCCO ARVL ULTA ROST CLBT BMBL ISIZ BYND SPCE NCLH GILD UBER NVDA BKNG ATVI GOOG GRPN AMRX INTC SBUX ABEV SHOP GPRO ADBE CSCO FOXA ABBV TWTR APPS SNAP QCOM PYPL ZNGA JBLU NYMT PINS OMAR SEAB INIC OSCR BMRN MNDT EQNR NTAP GMED FUBO CERN HSBC TIMB SLVM SSSS RKLB DISC PAYX PAYO TPIC MIME CLNE DKNG JMIA COTY ENLC MTDR BSBR LXRX SPOT PLUG ARNC TEVA TRIP GOLD EBAY BIDU DOCU TWOU EXPE SPGI ROKU RACE LYFT IMGN NORD JIUD FWON FTNT TRGP TTWO INFY MTCH OSTK MCHP EQIX CBRE NTNX PAAS MRVL LRCX MOMO SFIX ANSS VALE HDFC INTU MNST GROC QUAN EUET HUNT NAVI CGNX HOLX HTHT HBAN COMM MORN ISBC SSNC MLCO QLYS NWSA YUMC OTIS FITB NTRS VRSK CBOE INVH CIEN ORLY WING ZION PCAR WABT QTWO NUVA NYCB JBHT NOAH CMCS TWLO BIIB CNDT STNE OKTA NBEV AKAM ETSY NDAQ BSMX AVGO PTEN AMGN ILMN SHAK MELI NVTA HUBS ATUS WDAY FOLD PANW ITUB ALGN CRWD WELL OUTL SONO HANE REAL MSGS SAVE BILI CANO PRPB COIN SMFR CHKP SMFG IBKR NRDY SONY HAAC DISH URBN RIOT CHGG LOMA BTWN RHOR XLNX FLEX CHWY SNPS HUYA VIPS EXEL ICIC SUPV SBSW TCOM MPLX GRUB NBIX TIGR QIYI DLTR SCHW ANET VEEV HSIC QRTE ENIA NKTR AVIC BION VENT MARK BALL FANG BNTX ATHM CTRA GPRE CRHC JKHY AVPT DXCM HOOD GRWG AVLR LDOS MSTR BLDP PLAN JAZZ AXTA EPAM IGMS SKIL COUR WISH TLRY STOR STSI EAOQ ARCH MARD WORK KPLT JOBY SMAR ACHR ASML DBRG NOVA TECK ETAC SQSP PBCT PTRA GDDY TEAM RBLX ACEV WKHS CLVS ALLT MUFJ MUFG BKKT SOFI NTES VSCO ANTM LOGI CZOO FISV ALIT CABO BLOC ETRN RLGY GGAL PJSC BBWI CHTR AXON DUOL INFN BRIX INGV ATRI RAPI MAXA BIOR MDLZ DPCM XPOA ABNB OPFI BAMR SUMO ROOT SNOW OPEN CYXT FREQ LUMN NLOK LSCC ENPH VICI DASH BZUN CPNG SEDG SGMO PSTH PSTG VTRS ARMK ICPT PLTR MAXR MAXN TSLA AAPL AMZN MSFT AMPD NFLX BABA CAZO NTCO COVA COMP STLD STLA IPOF IPOD EDIT CVNA IIPR INDI LMND INCY CONX FSLY MCFE CHPT TENB BIPC CARR NICE LAZR CTAS NKLA FCEL MNTS COLD IDEX IDXX LTHM WYNN OZON RNG  PDD  DRI  RKT  TTD  TTE  ICE  TSP  BDX  RIO  TRV  BDC  BCS  IAG  MTG  MTD  MSP  TPX  KIM  BAH  RPC  RES  MPW  DIN  TMO  MOS  KEY  ATI  LNI nan AUY  BEP  UPS UPS  OPK  CAT  XRX  HOG  HMY  TSM  TTM  NRZ  BLK  BMY  BBD  HPE  MDT  CVS  AES  BAM  DPZ  BSX  OKE  IVZ  COP  EGO  AEO  GME  DXC  ARR  WBA  OVV  NOV  BRF CZR  CYH  CIM  SEB  UNP  UNM  ZBH  PDC  NOW  TPG  SBS  SBH  EFX  CCC  WTM  NLY  GNW  GNL  EDU  GLW  UGP  PSA  BWA  BVN  BUD  PPG  IRM  WMB  RXT  RCL  MMM  MCD  BAC  MRO  NIO  PFE  JPM  NKE  AXP  APA  LUV  JNJ  OXY  AMC  WFC  IVR  MUR  BTG  ANF  MFA  IBM  AIG  UAA  ABT  UAL  CVX  WMT  JBI  NUE  CDE  CCI  LIN  TIM  SFM  NRG  CAG  GSK  TPI  EIX  BNY  ARI  TGI  SPG  AXA  EQH  NEE  AXL  FDX  DBX  MRK  SLB  ERJ  GOL  HLT  PEP  PBR  CVE  CRM  MPC  MGM  GES  MAR  ZNH  MGI  GAP  GPS  LPL  CHS  HAL  UMC  KHC  LMT  NET  HPQ  DOW  AMT  SYY  TSN  RUN  EMR  DUK  BEN  WRK  FTI  LVS  MCO  PAA  APD  FSK  ZEN  YPF  JKS  FLR  MSI  STX  STZ  NYT  USB  WEN  PRU  JWN  ADP  MET  SYF  ECL  CAH  PCG  MFG  BHC  WWE  GGB  ADM  GEO  HLF  KMB  FVE  HDB  LOW  PAM  CNC  SHW  AOS  GDS  IPG  ROK  PHM  ATR  ESI  ITW  BAP  TFX  HIG  JEF  DRE  LKQ  FTV  KDP  LEN  MMC  MAS  CSX  PWR  SLM  FDS  GPK  PGR  WAB  NSC  PEG  HUN  KNX  PBH  PRI  DVN  WDC  TWO  CAJ  KSS  HAS  DHC  PBF  MUX  PSX  EPD  TME  KGC  HON  NEM  GFI  HMC  CHL  LLY  BBY  LTC  SID  NMR  QSR  CLF  BIP  UNH  VLO  TIS RIC ODP  SWN  SWK  LYV  ZTS  HFC  HES  HEI  AGL  AGC  AFL  STT  COF  AEP  HCA  EXC  CNP  XGN  HBI  SRE  CMG  CME  EVR  CMA  ACN  CLX  CLR  SQM  XEL  CFG  TJX  NOC  FCX  DLR  PPL  SYK  MAT  EOG  AAP  BHP  DHR  BMA  KMI  HCM  VER  PBI  SKX  GIS  BOX  KKR  ZTO  IBN  VIV  YUM  WIT  TPR  LNG  ADI  PXD  CNX  BAX  RMD  HRL  VGR  KAR  DHI  BRF  DFS  VTR  RAD  DEO  VST  AZO  AZN  AYX  HWM  MKL  VRM  FLT  TGT  MIR HUM  DAR  DAN  ORA  TFC  TER  AVB  HST  FIS  VMW  IGM  HRB  FHN  ETR  SNY  CIG  ACE  SMG  EQT  EQD  CGC  ZIP  NWL  SKT  NVR  NVS  NVO  CUI NIR MDB  TAL  TAK  OMC  OLN  MBT  VIR  APP  APH  WIX PNE  UBS  PNC  BRX  WIX  PLD  INO  RTX  RSG  RRC  WEX WEX  DVA  BLL  BKR  RPD  DTM  WCN  DTE  IHG  TXN  IGT  BIO  AAL  DIS  DAL  CCL  XOM  AMH  AME  VFC  CVA  ALL  ALB  OGN  HGV  AG  LE TM  JD  CX  BX  FL  US  PM  MU  PP PE BE  AY  AI  NV  CI MA  ZM  GE  AR  GM  SM  AA  UD FF  FE  ED  DQ  DG  DD  DB  CI  CF  BP  BK  WM  VZ  SP  EB  PG  SQ  GT  BB  EA  AL  MO  GS  LG  ET  AM  HP  FS  TD  KR  ON  NN PL AO  TW  KT  GO  QD  CL  WU  AU  RL  RY  DE  EL  HL  UA  CG  LI RH GA TV  SU  CC  SE  RH  RF  QS  PH  PD  SO  ZS  BG  EW  UP  BJ  DR  AN  OG  FR MS  MQ  MP  ME  LX  LI  IT  IS  IP  SA  HD  GD  AN IL DT  BA  KO  FB  YY  VF  XP  XM  WY  WB  VG  A  Z G X Y  O  O A T  V  F  M  H S F E C  K  P  H  W  I  C L  Y D  I L D N U  Z  X  R Q  VIACA  DISCK  DISCA  FWONK  CMCSA  SONOS HANES ICICI  QRTEA  STORE  BLOCK RAPID MAXAR GOOGL  CAZOO IDEXX '"
      ]
     },
     "execution_count": 4,
     "metadata": {},
     "output_type": "execute_result"
    }
   ],
   "source": [
    "stocks"
   ]
  },
  {
   "cell_type": "markdown",
   "metadata": {},
   "source": [
    "### Scaricamento dei dati di storico delle aziende"
   ]
  },
  {
   "cell_type": "code",
   "execution_count": 5,
   "metadata": {},
   "outputs": [
    {
     "name": "stdout",
     "output_type": "stream",
     "text": [
      "[*********************100%***********************]  2 of 2 completed\n"
     ]
    }
   ],
   "source": [
    "data = yf.download(  # or pdr.get_data_yahoo(...\n",
    "        # tickers list or string as well\n",
    "        tickers = stocks[:10],\n",
    "\n",
    "        # use \"period\" instead of start/end\n",
    "        # valid periods: 1d,5d,1mo,3mo,6mo,1y,2y,5y,10y,ytd,max\n",
    "        # (optional, default is '1mo')\n",
    "        period = \"2y\",\n",
    "\n",
    "        # fetch data by interval (including intraday if period < 60 days)\n",
    "        # valid intervals: 1m,2m,5m,15m,30m,60m,90m,1h,1d,5d,1wk,1mo,3mo\n",
    "        # (optional, default is '1d')\n",
    "        interval = \"1d\",\n",
    "\n",
    "        # group by ticker (to access via data['SPY'])\n",
    "        # (optional, default is 'column')\n",
    "        group_by = 'column',\n",
    "\n",
    "        # adjust all OHLC automatically\n",
    "        # (optional, default is False)\n",
    "        auto_adjust = False,\n",
    "\n",
    "        # download pre/post regular market hours data\n",
    "        # (optional, default is False)\n",
    "        prepost = False,\n",
    "\n",
    "        # use threads for mass downloading? (True/False/Integer)\n",
    "        # (optional, default is True)\n",
    "        threads = True,\n",
    "\n",
    "        # proxy URL scheme use use when downloading?\n",
    "        # (optional, default is None)\n",
    "        proxy = None\n",
    "    )\n",
    "\n",
    "data.to_pickle('dataset.pkl')"
   ]
  },
  {
   "cell_type": "markdown",
   "metadata": {},
   "source": [
    "### Download dei dati delle aziende"
   ]
  },
  {
   "cell_type": "code",
   "execution_count": null,
   "metadata": {},
   "outputs": [],
   "source": [
    "#ff = pd.DataFrame(yf.Ticker('MSFT').info)\n",
    "#to_del = []\n",
    "#\n",
    "#for company in tqdm(pos_perf.index):\n",
    "#    try:\n",
    "#        ff = ff.append(yf.Ticker(company).info, ignore_index=True).fillna(0)\n",
    "#    except Exception as e:\n",
    "#        print(company)\n",
    "#        to_del.append(company)\n",
    "#        print(e)\n",
    "#        continue"
   ]
  },
  {
   "cell_type": "markdown",
   "metadata": {},
   "source": [
    "## Salvataggio dei dati scaricati"
   ]
  },
  {
   "cell_type": "code",
   "execution_count": 6,
   "metadata": {},
   "outputs": [],
   "source": [
    "data = pd.read_pickle('dataset.pkl')"
   ]
  },
  {
   "cell_type": "code",
   "execution_count": 7,
   "metadata": {},
   "outputs": [],
   "source": [
    "ff = pd.read_pickle('descriptions.pkl')"
   ]
  },
  {
   "cell_type": "code",
   "execution_count": 8,
   "metadata": {},
   "outputs": [],
   "source": [
    "data.fillna(value=0, inplace=True)"
   ]
  },
  {
   "cell_type": "markdown",
   "metadata": {},
   "source": [
    "## Analisi sulla performance delle 791 aziende nei 2 anni"
   ]
  },
  {
   "cell_type": "code",
   "execution_count": 9,
   "metadata": {},
   "outputs": [],
   "source": [
    "def get_stock_data(df, stocksimbol):\n",
    "    df = df.xs(stocksimbol, axis=1, level = 1, drop_level=True)\n",
    "    df.drop(columns='Close', inplace=True)\n",
    "    df.rename(columns = {'Adj Close':'Close'}, inplace=True)\n",
    "    df.columns = df.columns.str.lower()\n",
    "    return df"
   ]
  },
  {
   "cell_type": "code",
   "execution_count": 10,
   "metadata": {},
   "outputs": [
    {
     "data": {
      "application/vnd.jupyter.widget-view+json": {
       "model_id": "2c6a7f6d148f40d9aaf7ccec6b06bbfa",
       "version_major": 2,
       "version_minor": 0
      },
      "text/plain": [
       "  0%|          | 0/2 [00:00<?, ?it/s]"
      ]
     },
     "metadata": {},
     "output_type": "display_data"
    },
    {
     "name": "stderr",
     "output_type": "stream",
     "text": [
      "/home/wonka/.local/lib/python3.10/site-packages/pandas/core/frame.py:4906: SettingWithCopyWarning: \n",
      "A value is trying to be set on a copy of a slice from a DataFrame\n",
      "\n",
      "See the caveats in the documentation: https://pandas.pydata.org/pandas-docs/stable/user_guide/indexing.html#returning-a-view-versus-a-copy\n",
      "  return super().drop(\n",
      "/home/wonka/.local/lib/python3.10/site-packages/pandas/core/frame.py:5039: SettingWithCopyWarning: \n",
      "A value is trying to be set on a copy of a slice from a DataFrame\n",
      "\n",
      "See the caveats in the documentation: https://pandas.pydata.org/pandas-docs/stable/user_guide/indexing.html#returning-a-view-versus-a-copy\n",
      "  return super().rename(\n",
      "/tmp/ipykernel_45654/2612653541.py:35: SettingWithCopyWarning: \n",
      "A value is trying to be set on a copy of a slice from a DataFrame\n",
      "\n",
      "See the caveats in the documentation: https://pandas.pydata.org/pandas-docs/stable/user_guide/indexing.html#returning-a-view-versus-a-copy\n",
      "  stock['Advice'][0] = 0\n"
     ]
    }
   ],
   "source": [
    "import pandas as pd\n",
    "from stockstats import StockDataFrame as Sdf\n",
    "from tqdm.notebook import tqdm\n",
    "\n",
    "data = pd.read_pickle('dataset.pkl')\n",
    "data = data.drop(data.index[0])\n",
    "\n",
    "score = []\n",
    "name = []\n",
    "diff = []\n",
    "\n",
    "for symbol in tqdm(data.columns.get_level_values(1).unique().values):\n",
    "    try:\n",
    "        stock  = Sdf.retype(get_stock_data(data, symbol))\n",
    "\n",
    "        signal = stock['macds']        # Your signal line\n",
    "        macd   = stock['macd']         # The MACD that need to cross the signal line\n",
    "        #                                              to give you a Buy/Sell signal\n",
    "        listLongShort = [\"No data\"]    # Since you need at least two days in the for loop\n",
    "\n",
    "        for i in range(1, len(signal)):\n",
    "            #                          # If the MACD crosses the signal line upward\n",
    "            if macd[i] > signal[i] and macd[i - 1] <= signal[i - 1]:\n",
    "                listLongShort.append(1)\n",
    "            #                          # The other way around\n",
    "            elif macd[i] < signal[i] and macd[i - 1] >= signal[i - 1]:\n",
    "                listLongShort.append(-1)\n",
    "            #                          # Do nothing if not crossed\n",
    "            else:\n",
    "                listLongShort.append(0)\n",
    "\n",
    "        stock['Advice'] = listLongShort\n",
    "        # The advice column means \"Buy/Sell/Hold\" at the end of this day or\n",
    "        #  at the beginning of the next day, since the market will be closed\n",
    "        stock['Advice'][0] = 0\n",
    "\n",
    "        if stock[stock['Advice']!=0]['advice'][-1] == 1 and stock[stock['Advice']!=0]['advice'].index[-1] != stock['Advice'].index[-1]:\n",
    "            stock['Advice'][-1] = -1\n",
    "\n",
    "        elif stock[stock['Advice']!=0]['advice'][-1] == 1 and stock[stock['Advice']!=0]['advice'].index[-1] == stock['Advice'].index[-1]:\n",
    "            #stock['Advice'][-2] = -1\n",
    "            stock['Advice'][-1] = 0\n",
    "\n",
    "        gain = stock['close']*stock['Advice']*(-1)\n",
    "        delta = (stock['close'][-1]-stock['close'][0])/(stock['close'][0])\n",
    "        #stock['gain'] = gain\n",
    "        #print(gain.sum()/(stock['close'][-1]-stock['close'][0]))\n",
    "        \n",
    "        score.append(gain.sum()/(stock['close'][0]))\n",
    "        name.append(symbol)\n",
    "        diff.append(delta)\n",
    "    except:\n",
    "        continue\n",
    "\n",
    "diff = pd.DataFrame(diff, index=name)\n",
    "scores = pd.DataFrame(score, index=name)\n",
    "scores.rename(columns={0:'Performance'}, inplace=True)"
   ]
  },
  {
   "cell_type": "code",
   "execution_count": null,
   "metadata": {},
   "outputs": [],
   "source": []
  },
  {
   "cell_type": "code",
   "execution_count": 11,
   "metadata": {},
   "outputs": [],
   "source": [
    "ff = pd.read_pickle('descriptions.pkl')\n",
    "ff = ff[['symbol', 'sector']]\n",
    "ff.set_index('symbol', inplace=True)\n",
    "scores = pd.merge(ff, scores, left_index=True, right_index=True)\n",
    "scores = pd.merge(scores, diff, left_index=True, right_index=True)\n",
    "scores['sector'].replace(0, 'Unknown', inplace=True)\n",
    "scores.rename(columns={0:'diff'}, inplace=True)\n",
    "scores.to_csv('scores.csv', sep=';', decimal=',')"
   ]
  },
  {
   "cell_type": "code",
   "execution_count": 12,
   "metadata": {},
   "outputs": [],
   "source": [
    "#fig = plot.figure(figsize=(70, 10))\n",
    "filtered = scores[scores['Performance']>1.50]\n",
    "#sns.scatterplot(data=filtered.sort_values(by='sector'), x=filtered.index, y='Performance', hue='sector')\n",
    "#plot.savefig('performance_sector.svg')\n",
    "filtered.sort_values(by='Performance', ascending=False).to_csv('best_performers_MACD.csv', sep=';', decimal=',')"
   ]
  },
  {
   "cell_type": "code",
   "execution_count": 15,
   "metadata": {},
   "outputs": [],
   "source": [
    "ff.query(\"symbol in \" + str(list(filtered.index.values))).to_csv('Best_performer_MACD_values.csv', sep=';', decimal=',')"
   ]
  },
  {
   "cell_type": "code",
   "execution_count": null,
   "metadata": {},
   "outputs": [],
   "source": [
    "filtered['delta'] = filtered['Performance'] - filtered['diff']"
   ]
  },
  {
   "cell_type": "code",
   "execution_count": 17,
   "metadata": {},
   "outputs": [],
   "source": [
    "filtered.sort_values(by='delta', ascending=False).to_csv('best_performers_MACD.csv', sep=';', decimal=',')"
   ]
  },
  {
   "cell_type": "code",
   "execution_count": 18,
   "metadata": {},
   "outputs": [],
   "source": [
    "fig, ax = plot.subplots(figsize=(10,5))\n",
    "filtered.sort_values(by='delta', ascending=False).drop(columns='diff').plot(figsize=(10,5), ax=ax)\n",
    "filtered.sort_values(by='delta', ascending=False)['diff'].plot.bar(figsize=(10,5), ax=ax)\n",
    "plot.savefig('Performance_comparison.svg')\n",
    "plot.close()"
   ]
  },
  {
   "cell_type": "code",
   "execution_count": 13,
   "metadata": {},
   "outputs": [
    {
     "name": "stderr",
     "output_type": "stream",
     "text": [
      "/home/wonka/.local/lib/python3.10/site-packages/pandas/core/frame.py:4906: SettingWithCopyWarning: \n",
      "A value is trying to be set on a copy of a slice from a DataFrame\n",
      "\n",
      "See the caveats in the documentation: https://pandas.pydata.org/pandas-docs/stable/user_guide/indexing.html#returning-a-view-versus-a-copy\n",
      "  return super().drop(\n",
      "/home/wonka/.local/lib/python3.10/site-packages/pandas/core/frame.py:5039: SettingWithCopyWarning: \n",
      "A value is trying to be set on a copy of a slice from a DataFrame\n",
      "\n",
      "See the caveats in the documentation: https://pandas.pydata.org/pandas-docs/stable/user_guide/indexing.html#returning-a-view-versus-a-copy\n",
      "  return super().rename(\n",
      "/tmp/ipykernel_45654/2924528357.py:35: SettingWithCopyWarning: \n",
      "A value is trying to be set on a copy of a slice from a DataFrame\n",
      "\n",
      "See the caveats in the documentation: https://pandas.pydata.org/pandas-docs/stable/user_guide/indexing.html#returning-a-view-versus-a-copy\n",
      "  stock['Advice'][0] = 0\n",
      "/home/wonka/.local/lib/python3.10/site-packages/pandas/core/frame.py:4906: SettingWithCopyWarning: \n",
      "A value is trying to be set on a copy of a slice from a DataFrame\n",
      "\n",
      "See the caveats in the documentation: https://pandas.pydata.org/pandas-docs/stable/user_guide/indexing.html#returning-a-view-versus-a-copy\n",
      "  return super().drop(\n",
      "/home/wonka/.local/lib/python3.10/site-packages/pandas/core/frame.py:5039: SettingWithCopyWarning: \n",
      "A value is trying to be set on a copy of a slice from a DataFrame\n",
      "\n",
      "See the caveats in the documentation: https://pandas.pydata.org/pandas-docs/stable/user_guide/indexing.html#returning-a-view-versus-a-copy\n",
      "  return super().rename(\n",
      "/tmp/ipykernel_45654/2924528357.py:35: SettingWithCopyWarning: \n",
      "A value is trying to be set on a copy of a slice from a DataFrame\n",
      "\n",
      "See the caveats in the documentation: https://pandas.pydata.org/pandas-docs/stable/user_guide/indexing.html#returning-a-view-versus-a-copy\n",
      "  stock['Advice'][0] = 0\n"
     ]
    }
   ],
   "source": [
    "import pandas as pd\n",
    "from stockstats import StockDataFrame as Sdf\n",
    "from tqdm.notebook import tqdm\n",
    "\n",
    "data = pd.read_pickle('dataset.pkl')\n",
    "data = data.drop(data.index[0])\n",
    "filtered = pd.read_csv('best_performers_MACD.csv', sep=';', decimal=',').set_index('Unnamed: 0')\n",
    "\n",
    "score = []\n",
    "name = []\n",
    "\n",
    "for company in filtered.index.values:\n",
    "    stock  = Sdf.retype(get_stock_data(data, company))\n",
    "\n",
    "    signal = stock['macds']        # Your signal line\n",
    "    macd   = stock['macd']         # The MACD that need to cross the signal line\n",
    "    #                                              to give you a Buy/Sell signal\n",
    "    listLongShort = [\"No data\"]    # Since you need at least two days in the for loop\n",
    "\n",
    "    for i in range(1, len(signal)):\n",
    "        #                          # If the MACD crosses the signal line upward\n",
    "        if macd[i] > signal[i] and macd[i - 1] <= signal[i - 1]:\n",
    "            listLongShort.append(1)\n",
    "        #                          # The other way around\n",
    "        elif macd[i] < signal[i] and macd[i - 1] >= signal[i - 1]:\n",
    "            listLongShort.append(-1)\n",
    "        #                          # Do nothing if not crossed\n",
    "        else:\n",
    "            listLongShort.append(0)\n",
    "\n",
    "    stock['Advice'] = listLongShort\n",
    "\n",
    "    # The advice column means \"Buy/Sell/Hold\" at the end of this day or\n",
    "    #  at the beginning of the next day, since the market will be closed\n",
    "    stock['Advice'][0] = 0\n",
    "\n",
    "    #if stock[stock['Advice']!=0]['advice'][-1] == 1:\n",
    "    #    stock['Advice'][-1] = -1\n",
    "\n",
    "\n",
    "    #print(stock[stock['Advice']!=0]['advice'][-1])\n",
    "\n",
    "\n",
    "    gain = stock['close']*stock['Advice']*(-1)\n",
    "    stock['gain'] = gain\n",
    "    #score.append(gain.sum()/(stock['close'][-1]-stock['close'][0]))\n",
    "    #name.append(symbol)\n",
    "    stock['Advice']=stock['Advice']*100\n",
    "    stock.drop(columns=['volume', 'gain']).plot(figsize=(30,10))\n",
    "    plot.title(str(round(gain.sum()*100/(stock['close'][0]))) + '%')\n",
    "    plot.savefig(str(company) + '_test.png')\n",
    "    plot.close()"
   ]
  },
  {
   "cell_type": "markdown",
   "metadata": {},
   "source": [
    "## Action on current owned actions"
   ]
  },
  {
   "cell_type": "code",
   "execution_count": 16,
   "metadata": {},
   "outputs": [
    {
     "name": "stderr",
     "output_type": "stream",
     "text": [
      "/home/wonka/.local/lib/python3.10/site-packages/pandas/core/frame.py:4906: SettingWithCopyWarning: \n",
      "A value is trying to be set on a copy of a slice from a DataFrame\n",
      "\n",
      "See the caveats in the documentation: https://pandas.pydata.org/pandas-docs/stable/user_guide/indexing.html#returning-a-view-versus-a-copy\n",
      "  return super().drop(\n",
      "/home/wonka/.local/lib/python3.10/site-packages/pandas/core/frame.py:5039: SettingWithCopyWarning: \n",
      "A value is trying to be set on a copy of a slice from a DataFrame\n",
      "\n",
      "See the caveats in the documentation: https://pandas.pydata.org/pandas-docs/stable/user_guide/indexing.html#returning-a-view-versus-a-copy\n",
      "  return super().rename(\n",
      "/tmp/ipykernel_45654/2803904769.py:36: SettingWithCopyWarning: \n",
      "A value is trying to be set on a copy of a slice from a DataFrame\n",
      "\n",
      "See the caveats in the documentation: https://pandas.pydata.org/pandas-docs/stable/user_guide/indexing.html#returning-a-view-versus-a-copy\n",
      "  stock['Advice'][0] = 'HOLD'\n"
     ]
    },
    {
     "name": "stdout",
     "output_type": "stream",
     "text": [
      "HOLD\n"
     ]
    },
    {
     "name": "stderr",
     "output_type": "stream",
     "text": [
      "/home/wonka/.local/lib/python3.10/site-packages/pandas/core/frame.py:4906: SettingWithCopyWarning: \n",
      "A value is trying to be set on a copy of a slice from a DataFrame\n",
      "\n",
      "See the caveats in the documentation: https://pandas.pydata.org/pandas-docs/stable/user_guide/indexing.html#returning-a-view-versus-a-copy\n",
      "  return super().drop(\n",
      "/home/wonka/.local/lib/python3.10/site-packages/pandas/core/frame.py:5039: SettingWithCopyWarning: \n",
      "A value is trying to be set on a copy of a slice from a DataFrame\n",
      "\n",
      "See the caveats in the documentation: https://pandas.pydata.org/pandas-docs/stable/user_guide/indexing.html#returning-a-view-versus-a-copy\n",
      "  return super().rename(\n",
      "/tmp/ipykernel_45654/2803904769.py:36: SettingWithCopyWarning: \n",
      "A value is trying to be set on a copy of a slice from a DataFrame\n",
      "\n",
      "See the caveats in the documentation: https://pandas.pydata.org/pandas-docs/stable/user_guide/indexing.html#returning-a-view-versus-a-copy\n",
      "  stock['Advice'][0] = 'HOLD'\n"
     ]
    },
    {
     "name": "stdout",
     "output_type": "stream",
     "text": [
      "HOLD\n"
     ]
    }
   ],
   "source": [
    "import pandas as pd\n",
    "from stockstats import StockDataFrame as Sdf\n",
    "from tqdm.notebook import tqdm\n",
    "\n",
    "data = pd.read_pickle('dataset.pkl')\n",
    "data = data.drop(data.index[0])\n",
    "owned = ['NVDA','AMD']\n",
    "\n",
    "score = []\n",
    "name = []\n",
    "advice = {}\n",
    "\n",
    "for company in owned:\n",
    "    stock  = Sdf.retype(get_stock_data(data, company))\n",
    "\n",
    "    signal = stock['macds']        # Your signal line\n",
    "    macd   = stock['macd']         # The MACD that need to cross the signal line\n",
    "    #                                              to give you a Buy/Sell signal\n",
    "    listLongShort = [\"No data\"]    # Since you need at least two days in the for loop\n",
    "\n",
    "    for i in range(1, len(signal)):\n",
    "        #                          # If the MACD crosses the signal line upward\n",
    "        if macd[i] > signal[i] and macd[i - 1] <= signal[i - 1]:\n",
    "            listLongShort.append('BUY')\n",
    "        #                          # The other way around\n",
    "        elif macd[i] < signal[i] and macd[i - 1] >= signal[i - 1]:\n",
    "            listLongShort.append('SELL')\n",
    "        #                          # Do nothing if not crossed\n",
    "        else:\n",
    "            listLongShort.append('HOLD')\n",
    "\n",
    "    stock['Advice'] = listLongShort\n",
    "\n",
    "    # The advice column means \"Buy/Sell/Hold\" at the end of this day or\n",
    "    #  at the beginning of the next day, since the market will be closed\n",
    "    stock['Advice'][0] = 'HOLD'\n",
    "    print(stock['Advice'][-1])\n",
    "    stock.drop(columns=['volume']).plot(figsize=(30,10))\n",
    "    plot.title(company)\n",
    "    plot.savefig(str(company) + '_owned.png')\n",
    "    plot.close()\n",
    "    advice[company]=stock['Advice'][-1]\n",
    "\n",
    "pd.DataFrame.from_dict(advice, orient='index').to_markdown()"
   ]
  },
  {
   "cell_type": "code",
   "execution_count": 47,
   "metadata": {},
   "outputs": [
    {
     "name": "stdout",
     "output_type": "stream",
     "text": [
      "|      | 0    |\n",
      "|:-----|:-----|\n",
      "| NVDA | HOLD |\n",
      "| AMD  | HOLD |\n"
     ]
    },
    {
     "data": {
      "text/plain": [
       "0"
      ]
     },
     "execution_count": 47,
     "metadata": {},
     "output_type": "execute_result"
    }
   ],
   "source": [
    "import os\n",
    "os.system(\"telegram-send \"+ \"'\" + ff + \"'\")"
   ]
  },
  {
   "cell_type": "code",
   "execution_count": 3,
   "metadata": {},
   "outputs": [],
   "source": [
    "from yahoofinancials import YahooFinancials\n",
    "import pandas as pd\n",
    "from loguru import logger"
   ]
  },
  {
   "cell_type": "code",
   "execution_count": 4,
   "metadata": {},
   "outputs": [],
   "source": [
    "from yahoofinancials import YahooFinancials\n",
    "\n",
    "yahoo_financials = YahooFinancials(stocks_list['Ticker'].values)\n",
    "val = yahoo_financials.get_price_to_sales()"
   ]
  },
  {
   "cell_type": "code",
   "execution_count": 6,
   "metadata": {},
   "outputs": [],
   "source": [
    "#@logger.catch\n",
    "ff = pd.read_pickle('descriptions.pkl')\n",
    "#ff = ff[['symbol', 'sector']]\n",
    "#ff.set_index('symbol', inplace=True)\n",
    "dt = pd.DataFrame(ff['symbol'])\n",
    "dt['Industry'] = ff.industry\n",
    "dt['P/S'] = dt.symbol.map(val)"
   ]
  },
  {
   "cell_type": "code",
   "execution_count": 7,
   "metadata": {},
   "outputs": [],
   "source": [
    "dt.Industry.replace(0,'unknown', inplace=True)\n",
    "dt['P/S'].fillna(0, inplace=True)\n",
    "dt.sort_values('Industry', inplace=True)"
   ]
  },
  {
   "cell_type": "code",
   "execution_count": 8,
   "metadata": {},
   "outputs": [],
   "source": [
    "dt.to_csv('PS stocks and industry.csv')"
   ]
  },
  {
   "cell_type": "code",
   "execution_count": 24,
   "metadata": {},
   "outputs": [],
   "source": [
    "dt['P/S'] = pd.to_numeric(dt['P/S'])\n",
    "for elem in dt.Industry.unique():\n",
    "    dt[dt['Industry']==elem].sort_values('P/S').plot.bar(x='symbol', y='P/S', figsize=(12, 4)).get_figure().savefig(str(elem) +'.png')\n",
    "    plot.close()"
   ]
  },
  {
   "cell_type": "code",
   "execution_count": 23,
   "metadata": {},
   "outputs": [
    {
     "data": {
      "text/html": [
       "<div>\n",
       "<style scoped>\n",
       "    .dataframe tbody tr th:only-of-type {\n",
       "        vertical-align: middle;\n",
       "    }\n",
       "\n",
       "    .dataframe tbody tr th {\n",
       "        vertical-align: top;\n",
       "    }\n",
       "\n",
       "    .dataframe thead th {\n",
       "        text-align: right;\n",
       "    }\n",
       "</style>\n",
       "<table border=\"1\" class=\"dataframe\">\n",
       "  <thead>\n",
       "    <tr style=\"text-align: right;\">\n",
       "      <th></th>\n",
       "      <th>symbol</th>\n",
       "      <th>Industry</th>\n",
       "      <th>P/S</th>\n",
       "    </tr>\n",
       "  </thead>\n",
       "  <tbody>\n",
       "    <tr>\n",
       "      <th>722</th>\n",
       "      <td>BRKB</td>\n",
       "      <td></td>\n",
       "      <td>0.000000</td>\n",
       "    </tr>\n",
       "    <tr>\n",
       "      <th>562</th>\n",
       "      <td>NVCR</td>\n",
       "      <td></td>\n",
       "      <td>42.766994</td>\n",
       "    </tr>\n",
       "    <tr>\n",
       "      <th>639</th>\n",
       "      <td>OMC</td>\n",
       "      <td>Advertising Agencies</td>\n",
       "      <td>1.265758</td>\n",
       "    </tr>\n",
       "    <tr>\n",
       "      <th>281</th>\n",
       "      <td>CCO</td>\n",
       "      <td>Advertising Agencies</td>\n",
       "      <td>0.000000</td>\n",
       "    </tr>\n",
       "    <tr>\n",
       "      <th>417</th>\n",
       "      <td>BITA</td>\n",
       "      <td>Advertising Agencies</td>\n",
       "      <td>0.000000</td>\n",
       "    </tr>\n",
       "    <tr>\n",
       "      <th>...</th>\n",
       "      <td>...</td>\n",
       "      <td>...</td>\n",
       "      <td>...</td>\n",
       "    </tr>\n",
       "    <tr>\n",
       "      <th>450</th>\n",
       "      <td>S</td>\n",
       "      <td>unknown</td>\n",
       "      <td>0.000000</td>\n",
       "    </tr>\n",
       "    <tr>\n",
       "      <th>757</th>\n",
       "      <td>CRM</td>\n",
       "      <td>unknown</td>\n",
       "      <td>10.058805</td>\n",
       "    </tr>\n",
       "    <tr>\n",
       "      <th>275</th>\n",
       "      <td>FCAU</td>\n",
       "      <td>unknown</td>\n",
       "      <td>0.000000</td>\n",
       "    </tr>\n",
       "    <tr>\n",
       "      <th>518</th>\n",
       "      <td>RTN</td>\n",
       "      <td>unknown</td>\n",
       "      <td>0.000000</td>\n",
       "    </tr>\n",
       "    <tr>\n",
       "      <th>92</th>\n",
       "      <td>CRZO</td>\n",
       "      <td>unknown</td>\n",
       "      <td>0.000000</td>\n",
       "    </tr>\n",
       "  </tbody>\n",
       "</table>\n",
       "<p>783 rows × 3 columns</p>\n",
       "</div>"
      ],
      "text/plain": [
       "    symbol              Industry        P/S\n",
       "722   BRKB                         0.000000\n",
       "562   NVCR                        42.766994\n",
       "639    OMC  Advertising Agencies   1.265758\n",
       "281    CCO  Advertising Agencies   0.000000\n",
       "417   BITA  Advertising Agencies   0.000000\n",
       "..     ...                   ...        ...\n",
       "450      S               unknown   0.000000\n",
       "757    CRM               unknown  10.058805\n",
       "275   FCAU               unknown   0.000000\n",
       "518    RTN               unknown   0.000000\n",
       "92    CRZO               unknown   0.000000\n",
       "\n",
       "[783 rows x 3 columns]"
      ]
     },
     "execution_count": 23,
     "metadata": {},
     "output_type": "execute_result"
    }
   ],
   "source": [
    "dt"
   ]
  },
  {
   "cell_type": "code",
   "execution_count": null,
   "metadata": {},
   "outputs": [],
   "source": []
  }
 ],
 "metadata": {
  "kernelspec": {
   "display_name": "Python 3 (ipykernel)",
   "language": "python",
   "name": "python3"
  },
  "language_info": {
   "codemirror_mode": {
    "name": "ipython",
    "version": 3
   },
   "file_extension": ".py",
   "mimetype": "text/x-python",
   "name": "python",
   "nbconvert_exporter": "python",
   "pygments_lexer": "ipython3",
   "version": "3.10.1"
  }
 },
 "nbformat": 4,
 "nbformat_minor": 4
}
