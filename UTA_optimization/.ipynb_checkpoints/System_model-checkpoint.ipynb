{
 "cells": [
  {
   "cell_type": "code",
   "execution_count": 5,
   "metadata": {},
   "outputs": [],
   "source": [
    "import numpy as np\n",
    "import pandas as pd\n",
    "import math"
   ]
  },
  {
   "cell_type": "code",
   "execution_count": 9,
   "metadata": {},
   "outputs": [],
   "source": [
    "def heat_exchanger(va, Tiw, Text, Tfa):\n",
    "    cp_air = 1005 #j/kgK\n",
    "    cp_water = 4186 #j/kgK\n",
    "    Tia = Text\n",
    "    ma = va*0.00922 #kg/h\n",
    "    mw = (ma * cp_air * (Tfa-Tia))/(cp_water * (Tfw-Tiw)) #Qw=Qa\n",
    "    return mw\n",
    "\n",
    "def fluid_valve(max_mw, R, mw):\n",
    "    if mw == 0:\n",
    "        valve_command = 0\n",
    "    else:\n",
    "        valve_command = math.log(mw/max_mw, R) +1\n",
    "    # https://cgproducts.johnsoncontrols.com/MET_PDF/347VB.PDF \n",
    "    return valve_command\n",
    "\n",
    "def air_heat_exchanger(mw, Tiw, Tfw, Tia):\n",
    "    cp_air = 1005 #j/kgK\n",
    "    cp_water = 4186 #j/kgK\n",
    "    ma = mw*cp_water * (Tfw-Tiw)/(cp_air * (Tfa-Tia)) #Qw=Qa\n",
    "    va = ma/0.00922 #m3/h\n",
    "    return va\n",
    "\n",
    "def vent_im(va_max, va_min, va_required, R, mw):\n",
    "    if mw == 0:\n",
    "        valve_command = 0\n",
    "    else:\n",
    "        valve_command = math.log(mw/max_mw, R) +1\n",
    "    # https://cgproducts.johnsoncontrols.com/MET_PDF/347VB.PDF \n",
    "    return valve_command"
   ]
  },
  {
   "cell_type": "code",
   "execution_count": 14,
   "metadata": {},
   "outputs": [
    {
     "data": {
      "text/plain": [
       "0.865010564167455"
      ]
     },
     "execution_count": 14,
     "metadata": {},
     "output_type": "execute_result"
    }
   ],
   "source": []
  },
  {
   "cell_type": "code",
   "execution_count": null,
   "metadata": {},
   "outputs": [],
   "source": []
  }
 ],
 "metadata": {
  "kernelspec": {
   "display_name": "Python 3",
   "language": "python",
   "name": "python3"
  },
  "language_info": {
   "codemirror_mode": {
    "name": "ipython",
    "version": 3
   },
   "file_extension": ".py",
   "mimetype": "text/x-python",
   "name": "python",
   "nbconvert_exporter": "python",
   "pygments_lexer": "ipython3",
   "version": "3.8.3"
  }
 },
 "nbformat": 4,
 "nbformat_minor": 4
}
