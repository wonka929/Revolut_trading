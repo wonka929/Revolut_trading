{
 "cells": [
  {
   "cell_type": "code",
   "execution_count": 1,
   "id": "04579a3a-3480-4256-8340-fed5f322adcd",
   "metadata": {},
   "outputs": [],
   "source": [
    "import logging\n",
    "from telegram.ext import Updater, CommandHandler\n",
    "import os\n",
    "import csv"
   ]
  },
  {
   "cell_type": "code",
   "execution_count": null,
   "id": "17858761-add7-46b5-ab98-66d11f97cf5e",
   "metadata": {},
   "outputs": [
    {
     "name": "stderr",
     "output_type": "stream",
     "text": [
      "2022-01-23 19:39:39,825 - apscheduler.scheduler - INFO - Scheduler started\n",
      "2022-01-23 19:40:17,930 - telegram.ext.updater - INFO - Received signal 2 (SIGINT), stopping...\n",
      "2022-01-23 19:40:17,931 - apscheduler.scheduler - INFO - Scheduler has been shut down\n"
     ]
    }
   ],
   "source": [
    "logging.basicConfig(format='%(asctime)s - %(name)s - %(levelname)s - %(message)s',\n",
    "                    level=logging.INFO)\n",
    "\n",
    "logger = logging.getLogger(__name__)\n",
    "\n",
    "def error(update, context):\n",
    "    \"\"\"Log Errors caused by Updates.\"\"\"\n",
    "    logger.warning('Update \"%s\" caused error \"%s\"', update, context.error)\n",
    "\n",
    "def send_plot(update, context):\n",
    "    try:\n",
    "        file = context.args[0]\n",
    "        os.system(\"telegram-send --image \" + (str(file).upper() + '.png') + \" --caption \" + str(file).upper())\n",
    "        print((str(file).upper() + '.png'))\n",
    "    except Exception as e:\n",
    "        update.message.reply_text(e)\n",
    "        \n",
    "def update_owned_list(update, context):\n",
    "    try:\n",
    "        ff = context.args\n",
    "        file = open('owned.csv', 'w+', newline ='') \n",
    "        with file:\n",
    "            write = csv.writer(file)\n",
    "            write.writerow(ff)\n",
    "        file.close()\n",
    "        owned(update, context)\n",
    "    except Exception as e:\n",
    "        update.message.reply_text(e)\n",
    "\n",
    "def owned(update, context):\n",
    "    try:\n",
    "        os.system(\"cat owned.csv | telegram-send --stdin\")\n",
    "    except Exception as e:\n",
    "        update.message.reply_text(e)\n",
    "        \n",
    "def main():\n",
    "    updater = Updater(\"2134101372:AAHmfj0j7CEBzETwqdTKKdmtznVieDfbtvs\", use_context=True)\n",
    "    dp = updater.dispatcher\n",
    "    dp.add_handler(CommandHandler(\"plot\", send_plot))\n",
    "    dp.add_handler(CommandHandler(\"owned_update\", update_owned_list))\n",
    "    dp.add_handler(CommandHandler(\"owned\", owned))\n",
    "    dp.add_error_handler(error)\n",
    "    updater.start_polling()\n",
    "    updater.idle()\n",
    "\n",
    "if __name__ == '__main__':\n",
    "    main()"
   ]
  },
  {
   "cell_type": "code",
   "execution_count": 21,
   "id": "00db9158-efa9-4c35-b466-6b6ac0500c63",
   "metadata": {},
   "outputs": [],
   "source": []
  },
  {
   "cell_type": "code",
   "execution_count": null,
   "id": "08ab5c2d-8ee6-4c05-b7ef-e0f1144d911f",
   "metadata": {},
   "outputs": [],
   "source": []
  }
 ],
 "metadata": {
  "kernelspec": {
   "display_name": "Python 3 (ipykernel)",
   "language": "python",
   "name": "python3"
  },
  "language_info": {
   "codemirror_mode": {
    "name": "ipython",
    "version": 3
   },
   "file_extension": ".py",
   "mimetype": "text/x-python",
   "name": "python",
   "nbconvert_exporter": "python",
   "pygments_lexer": "ipython3",
   "version": "3.10.1"
  }
 },
 "nbformat": 4,
 "nbformat_minor": 5
}
