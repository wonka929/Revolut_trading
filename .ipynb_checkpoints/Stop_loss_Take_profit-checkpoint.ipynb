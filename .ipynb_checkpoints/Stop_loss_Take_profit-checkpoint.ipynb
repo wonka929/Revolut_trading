{
 "cells": [
  {
   "cell_type": "code",
   "execution_count": 1,
   "id": "d67b627d-d256-40be-bb40-334454c54c43",
   "metadata": {},
   "outputs": [],
   "source": [
    "import pickle\n",
    "import yfinance as yf\n",
    "import pandas as pd"
   ]
  },
  {
   "cell_type": "code",
   "execution_count": 2,
   "id": "967afd82-aa08-429c-9e8a-7d1191f6470f",
   "metadata": {},
   "outputs": [
    {
     "name": "stdout",
     "output_type": "stream",
     "text": [
      "{'AMC': 17.8752, 'NVDA': 229.32}\n"
     ]
    }
   ],
   "source": [
    "with open('bought.pickle', 'rb') as f:\n",
    "    bought = pickle.load(f)\n",
    "print(bought)"
   ]
  },
  {
   "cell_type": "code",
   "execution_count": 3,
   "id": "05bd23c2-a0da-4cae-a3f3-70b0c18b2182",
   "metadata": {},
   "outputs": [],
   "source": [
    "update_stop_loss = 0.02\n",
    "update_take_profit = 0.04"
   ]
  },
  {
   "cell_type": "code",
   "execution_count": 4,
   "id": "d534f2ce-23b8-4a4a-b327-e184be17e7fa",
   "metadata": {},
   "outputs": [],
   "source": [
    "def get_data(stock):\n",
    "    elem = yf.Ticker(stock)\n",
    "    price = elem.info['regularMarketPrice']\n",
    "    return price"
   ]
  },
  {
   "cell_type": "code",
   "execution_count": 5,
   "id": "93592e5e-0ffc-44ff-ad22-5c2febbda8f5",
   "metadata": {},
   "outputs": [],
   "source": [
    "stocks = bought.keys()"
   ]
  },
  {
   "cell_type": "code",
   "execution_count": 6,
   "id": "144614b1-c4e0-434b-8bd8-623a63d99ebc",
   "metadata": {},
   "outputs": [],
   "source": [
    "dic = {}\n",
    "\n",
    "for stock in stocks:\n",
    "    dic[stock]=get_data(stock)"
   ]
  },
  {
   "cell_type": "code",
   "execution_count": 7,
   "id": "42a0937c-df4b-4ee7-92f5-fb922dfcff01",
   "metadata": {},
   "outputs": [
    {
     "name": "stdout",
     "output_type": "stream",
     "text": [
      "AMC : 0.020408163265306062\n",
      "Aggiorna stop_loss a 17.8752\n",
      "\n",
      "\n",
      "NVDA : 0.008154543868829604\n",
      "\n",
      "-------------- \n",
      "Attendiamo prossimo aggiornamento\n"
     ]
    }
   ],
   "source": [
    "for elem in bought.keys():\n",
    "    status = (dic[elem]-bought[elem])/bought[elem]\n",
    "    print(elem + ' : ' + str(status))\n",
    "    if status < -1*update_stop_loss:\n",
    "        print('Vendi per stop loss\\n')\n",
    "    elif (status > update_stop_loss) and (status < update_take_profit):\n",
    "        print('Aggiorna stop_loss a %s' %(dic[elem]*(1-update_stop_loss)))\n",
    "        print('\\n')\n",
    "        bought[elem]=dic[elem]*(1-update_stop_loss)\n",
    "    elif (status > update_take_profit):\n",
    "        print('Vendi lo stock %s per valore di take_profit raggiunto a %s' %(elem, dic[elem]))\n",
    "    else:\n",
    "        print('\\n-------------- \\nAttendiamo prossimo aggiornamento')"
   ]
  },
  {
   "cell_type": "code",
   "execution_count": 10,
   "id": "a0e53bb7-ef2e-4180-85bb-24b54338bde0",
   "metadata": {},
   "outputs": [],
   "source": [
    "with open('bought.pickle', 'wb') as f:\n",
    "    pickle.dump(bought, f)"
   ]
  },
  {
   "cell_type": "code",
   "execution_count": null,
   "id": "74f49ece-8d6d-49e4-9722-42b8fbfb3cbb",
   "metadata": {},
   "outputs": [],
   "source": []
  }
 ],
 "metadata": {
  "kernelspec": {
   "display_name": "Python 3 (ipykernel)",
   "language": "python",
   "name": "python3"
  },
  "language_info": {
   "codemirror_mode": {
    "name": "ipython",
    "version": 3
   },
   "file_extension": ".py",
   "mimetype": "text/x-python",
   "name": "python",
   "nbconvert_exporter": "python",
   "pygments_lexer": "ipython3",
   "version": "3.10.4"
  }
 },
 "nbformat": 4,
 "nbformat_minor": 5
}
